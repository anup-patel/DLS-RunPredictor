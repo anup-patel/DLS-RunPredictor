{
 "cells": [
  {
   "cell_type": "markdown",
   "metadata": {},
   "source": [
    "### Author : Anup Patel (M.tech CSA) "
   ]
  },
  {
   "cell_type": "markdown",
   "metadata": {},
   "source": [
    "### Library Import "
   ]
  },
  {
   "cell_type": "code",
   "execution_count": 1,
   "metadata": {},
   "outputs": [],
   "source": [
    "import math\n",
    "import numpy as np\n",
    "import pandas as pd\n",
    "import matplotlib.pyplot as plt\n",
    "from scipy.optimize import minimize\n",
    "import matplotlib.pyplot as plt"
   ]
  },
  {
   "cell_type": "markdown",
   "metadata": {},
   "source": [
    "### Read File "
   ]
  },
  {
   "cell_type": "code",
   "execution_count": 2,
   "metadata": {},
   "outputs": [],
   "source": [
    "data=pd.read_csv(\"./../data/04_cricket_1999to2011.csv\")"
   ]
  },
  {
   "cell_type": "code",
   "execution_count": 3,
   "metadata": {},
   "outputs": [
    {
     "data": {
      "text/html": [
       "<div>\n",
       "<style scoped>\n",
       "    .dataframe tbody tr th:only-of-type {\n",
       "        vertical-align: middle;\n",
       "    }\n",
       "\n",
       "    .dataframe tbody tr th {\n",
       "        vertical-align: top;\n",
       "    }\n",
       "\n",
       "    .dataframe thead th {\n",
       "        text-align: right;\n",
       "    }\n",
       "</style>\n",
       "<table border=\"1\" class=\"dataframe\">\n",
       "  <thead>\n",
       "    <tr style=\"text-align: right;\">\n",
       "      <th></th>\n",
       "      <th>Match</th>\n",
       "      <th>Date</th>\n",
       "      <th>Innings</th>\n",
       "      <th>Over</th>\n",
       "      <th>Runs</th>\n",
       "      <th>Total.Runs</th>\n",
       "      <th>Innings.Total.Runs</th>\n",
       "      <th>Runs.Remaining</th>\n",
       "      <th>Total.Out</th>\n",
       "      <th>Innings.Total.Out</th>\n",
       "      <th>...</th>\n",
       "      <th>at.bat.won.toss</th>\n",
       "      <th>at.bat.at.home</th>\n",
       "      <th>at.bat.bat.first</th>\n",
       "      <th>chose_bat_1st</th>\n",
       "      <th>chose_bat_2nd</th>\n",
       "      <th>forced_bat_1st</th>\n",
       "      <th>forced_bat_2nd</th>\n",
       "      <th>new.game</th>\n",
       "      <th>Error.In.Data</th>\n",
       "      <th>common.support</th>\n",
       "    </tr>\n",
       "  </thead>\n",
       "  <tbody>\n",
       "    <tr>\n",
       "      <th>0</th>\n",
       "      <td>65193</td>\n",
       "      <td>14/05/1999</td>\n",
       "      <td>1</td>\n",
       "      <td>1</td>\n",
       "      <td>4</td>\n",
       "      <td>4</td>\n",
       "      <td>204</td>\n",
       "      <td>200</td>\n",
       "      <td>0</td>\n",
       "      <td>10</td>\n",
       "      <td>...</td>\n",
       "      <td>0</td>\n",
       "      <td>0</td>\n",
       "      <td>1</td>\n",
       "      <td>0</td>\n",
       "      <td>0</td>\n",
       "      <td>1</td>\n",
       "      <td>0</td>\n",
       "      <td>1</td>\n",
       "      <td>0</td>\n",
       "      <td>1</td>\n",
       "    </tr>\n",
       "    <tr>\n",
       "      <th>1</th>\n",
       "      <td>65193</td>\n",
       "      <td>14/05/1999</td>\n",
       "      <td>1</td>\n",
       "      <td>2</td>\n",
       "      <td>2</td>\n",
       "      <td>6</td>\n",
       "      <td>204</td>\n",
       "      <td>198</td>\n",
       "      <td>0</td>\n",
       "      <td>10</td>\n",
       "      <td>...</td>\n",
       "      <td>0</td>\n",
       "      <td>0</td>\n",
       "      <td>1</td>\n",
       "      <td>0</td>\n",
       "      <td>0</td>\n",
       "      <td>1</td>\n",
       "      <td>0</td>\n",
       "      <td>0</td>\n",
       "      <td>0</td>\n",
       "      <td>1</td>\n",
       "    </tr>\n",
       "    <tr>\n",
       "      <th>2</th>\n",
       "      <td>65193</td>\n",
       "      <td>14/05/1999</td>\n",
       "      <td>1</td>\n",
       "      <td>3</td>\n",
       "      <td>3</td>\n",
       "      <td>9</td>\n",
       "      <td>204</td>\n",
       "      <td>195</td>\n",
       "      <td>0</td>\n",
       "      <td>10</td>\n",
       "      <td>...</td>\n",
       "      <td>0</td>\n",
       "      <td>0</td>\n",
       "      <td>1</td>\n",
       "      <td>0</td>\n",
       "      <td>0</td>\n",
       "      <td>1</td>\n",
       "      <td>0</td>\n",
       "      <td>0</td>\n",
       "      <td>0</td>\n",
       "      <td>1</td>\n",
       "    </tr>\n",
       "    <tr>\n",
       "      <th>3</th>\n",
       "      <td>65193</td>\n",
       "      <td>14/05/1999</td>\n",
       "      <td>1</td>\n",
       "      <td>4</td>\n",
       "      <td>2</td>\n",
       "      <td>20</td>\n",
       "      <td>204</td>\n",
       "      <td>184</td>\n",
       "      <td>0</td>\n",
       "      <td>10</td>\n",
       "      <td>...</td>\n",
       "      <td>0</td>\n",
       "      <td>0</td>\n",
       "      <td>1</td>\n",
       "      <td>0</td>\n",
       "      <td>0</td>\n",
       "      <td>1</td>\n",
       "      <td>0</td>\n",
       "      <td>0</td>\n",
       "      <td>0</td>\n",
       "      <td>1</td>\n",
       "    </tr>\n",
       "    <tr>\n",
       "      <th>4</th>\n",
       "      <td>65193</td>\n",
       "      <td>14/05/1999</td>\n",
       "      <td>1</td>\n",
       "      <td>5</td>\n",
       "      <td>6</td>\n",
       "      <td>37</td>\n",
       "      <td>204</td>\n",
       "      <td>167</td>\n",
       "      <td>0</td>\n",
       "      <td>10</td>\n",
       "      <td>...</td>\n",
       "      <td>0</td>\n",
       "      <td>0</td>\n",
       "      <td>1</td>\n",
       "      <td>0</td>\n",
       "      <td>0</td>\n",
       "      <td>1</td>\n",
       "      <td>0</td>\n",
       "      <td>0</td>\n",
       "      <td>0</td>\n",
       "      <td>1</td>\n",
       "    </tr>\n",
       "  </tbody>\n",
       "</table>\n",
       "<p>5 rows × 38 columns</p>\n",
       "</div>"
      ],
      "text/plain": [
       "   Match        Date  Innings  Over  Runs  Total.Runs  Innings.Total.Runs  \\\n",
       "0  65193  14/05/1999        1     1     4           4                 204   \n",
       "1  65193  14/05/1999        1     2     2           6                 204   \n",
       "2  65193  14/05/1999        1     3     3           9                 204   \n",
       "3  65193  14/05/1999        1     4     2          20                 204   \n",
       "4  65193  14/05/1999        1     5     6          37                 204   \n",
       "\n",
       "   Runs.Remaining  Total.Out  Innings.Total.Out  ...  at.bat.won.toss  \\\n",
       "0             200          0                 10  ...                0   \n",
       "1             198          0                 10  ...                0   \n",
       "2             195          0                 10  ...                0   \n",
       "3             184          0                 10  ...                0   \n",
       "4             167          0                 10  ...                0   \n",
       "\n",
       "   at.bat.at.home  at.bat.bat.first  chose_bat_1st  chose_bat_2nd  \\\n",
       "0               0                 1              0              0   \n",
       "1               0                 1              0              0   \n",
       "2               0                 1              0              0   \n",
       "3               0                 1              0              0   \n",
       "4               0                 1              0              0   \n",
       "\n",
       "   forced_bat_1st  forced_bat_2nd  new.game Error.In.Data common.support  \n",
       "0               1               0         1             0              1  \n",
       "1               1               0         0             0              1  \n",
       "2               1               0         0             0              1  \n",
       "3               1               0         0             0              1  \n",
       "4               1               0         0             0              1  \n",
       "\n",
       "[5 rows x 38 columns]"
      ]
     },
     "execution_count": 3,
     "metadata": {},
     "output_type": "execute_result"
    }
   ],
   "source": [
    "data.head()"
   ]
  },
  {
   "cell_type": "code",
   "execution_count": 4,
   "metadata": {},
   "outputs": [
    {
     "name": "stdout",
     "output_type": "stream",
     "text": [
      "No. of Columns: 38\n"
     ]
    }
   ],
   "source": [
    "print(\"No. of Columns: \" +str(len(data.columns)))"
   ]
  },
  {
   "cell_type": "code",
   "execution_count": 5,
   "metadata": {},
   "outputs": [
    {
     "name": "stdout",
     "output_type": "stream",
     "text": [
      "No. of Data Instances: 126768\n"
     ]
    }
   ],
   "source": [
    "print(\"No. of Data Instances: \" +str(len(data)))"
   ]
  },
  {
   "cell_type": "markdown",
   "metadata": {},
   "source": [
    "### Feature Extraction "
   ]
  },
  {
   "cell_type": "code",
   "execution_count": 6,
   "metadata": {},
   "outputs": [
    {
     "name": "stdout",
     "output_type": "stream",
     "text": [
      "Features Extracted \n",
      "\n"
     ]
    }
   ],
   "source": [
    "innings = data['Innings'].values\n",
    "overs_completed = data['Over'].values\n",
    "total_overs = data['Total.Overs'].values\n",
    "overs_remaining = total_overs - overs_completed\n",
    "innings_total_score = data['Innings.Total.Runs'].values\n",
    "current_score = data['Total.Runs'].values\n",
    "runs_remaining = innings_total_score - current_score\n",
    "wickets_remaining = data['Wickets.in.Hand'].values\n",
    "print(\"Features Extracted \\n\")"
   ]
  },
  {
   "cell_type": "markdown",
   "metadata": {},
   "source": [
    "### Squared Error Loss Function "
   ]
  },
  {
   "cell_type": "code",
   "execution_count": 7,
   "metadata": {},
   "outputs": [],
   "source": [
    "def squared_error_loss(params, args):\n",
    "    squared_loss = []\n",
    "    L = params[10]\n",
    "    innings=args[0]\n",
    "    overs_remaining = args[1]\n",
    "    runs_remaining = args[2]\n",
    "    wickets_remaining = args[3]\n",
    "    loss=0   \n",
    "    #count=0\n",
    "    \n",
    "    for i in range(len(wickets_remaining)):\n",
    "        if innings[i] == 1:\n",
    "            if (runs_remaining[i] > 0 and wickets_remaining[i]>0):\n",
    "                predicted_run = params[wickets_remaining[i]-1] * (1.0 - np.exp((-1*L*overs_remaining[i])/(params[wickets_remaining[i]-1])))\n",
    "                tmp=(predicted_run - runs_remaining[i])**2\n",
    "                loss=loss+tmp\n",
    "                #count+=1\n",
    "    #print(count) \n",
    "    return loss"
   ]
  },
  {
   "cell_type": "markdown",
   "metadata": {},
   "source": [
    "### Optimization Function"
   ]
  },
  {
   "cell_type": "code",
   "execution_count": 8,
   "metadata": {},
   "outputs": [],
   "source": [
    "def optimizer(method_name,innings,overs_remaining,runs_remaining,wickets_remaining):    \n",
    "    #BFGS Method\n",
    "\n",
    "    initial_parameters = [10.0, 20.0, 35.0, 50.0, 70.0, 100.0, 140.0, 180.0, 235.0,280.0, 19] #Random Values\n",
    "\n",
    "    #Minimize Loss function and find optimized Parameters\n",
    "    parameters = minimize(squared_error_loss, initial_parameters,\n",
    "                      args=[innings,\n",
    "                            overs_remaining,\n",
    "                            runs_remaining,\n",
    "                            wickets_remaining\n",
    "                            ],\n",
    "                      method=method_name)\n",
    "    optimized_params1, squared_error_loss1 = parameters['x'], parameters['fun']\n",
    "    #print(optimized_params1)\n",
    "    #print(squared_error_loss1)\n",
    "    return parameters['x'], parameters['fun']\n"
   ]
  },
  {
   "cell_type": "markdown",
   "metadata": {},
   "source": [
    "### Optimization "
   ]
  },
  {
   "cell_type": "code",
   "execution_count": 9,
   "metadata": {},
   "outputs": [
    {
     "name": "stdout",
     "output_type": "stream",
     "text": [
      "Optimizing Parameters .... \n",
      "Optimized Parameters Computed\n"
     ]
    }
   ],
   "source": [
    "print(\"Optimizing Parameters .... \")\n",
    "optimized_params, squared_error_loss= optimizer('L-BFGS-B',innings,overs_remaining,runs_remaining,wickets_remaining)\n",
    "print(\"Optimized Parameters Computed\")\n",
    "#optimizer('Powell')\n",
    "#optimizer('L-BFGS-B')\n",
    "#optimizer('TNC')\n",
    "#optimizer('COBYLA')\n",
    "\n",
    "#Got least Loss by using BFGS Method"
   ]
  },
  {
   "cell_type": "markdown",
   "metadata": {},
   "source": [
    "### Loss and Parameters "
   ]
  },
  {
   "cell_type": "code",
   "execution_count": 12,
   "metadata": {},
   "outputs": [
    {
     "name": "stdout",
     "output_type": "stream",
     "text": [
      "Total Squared Error Loss = 104818097.3553355\n",
      "Parameter L :: 10.891098082326382\n",
      "Parameter Z1 = 13.496367065719378\n",
      "Parameter Z2 = 27.415347389897747\n",
      "Parameter Z3 = 51.20174965647599\n",
      "Parameter Z4 = 78.77429522669443\n",
      "Parameter Z5 = 104.05603141296247\n",
      "Parameter Z6 = 137.75674727942007\n",
      "Parameter Z7 = 168.78289371646494\n",
      "Parameter Z8 = 207.4873252009579\n",
      "Parameter Z9 = 239.02889664145187\n",
      "Parameter Z10 = 284.05111670458524\n"
     ]
    }
   ],
   "source": [
    "print ('Total Squared Error Loss = ' + str(squared_error_loss))\n",
    "print ('Parameter L :: ' + str(optimized_params[10]))\n",
    "for i in range(10):\n",
    "    print ('Parameter Z' + str(i+1) + ' = ' + str(optimized_params[i]))"
   ]
  },
  {
   "cell_type": "markdown",
   "metadata": {},
   "source": [
    "### Compute RMSE"
   ]
  },
  {
   "cell_type": "code",
   "execution_count": 13,
   "metadata": {},
   "outputs": [
    {
     "name": "stdout",
     "output_type": "stream",
     "text": [
      "Root Mean Squared Error :: 28.754996349478063\n"
     ]
    }
   ],
   "source": [
    "print(\"Root Mean Squared Error :: \" + str(np.sqrt(squared_error_loss/len(overs_remaining))))"
   ]
  },
  {
   "cell_type": "markdown",
   "metadata": {},
   "source": [
    "### Prediction Function "
   ]
  },
  {
   "cell_type": "code",
   "execution_count": 14,
   "metadata": {},
   "outputs": [
    {
     "data": {
      "text/plain": [
       "'\\nz=parameter\\nu=overs remaining\\n'"
      ]
     },
     "execution_count": 14,
     "metadata": {},
     "output_type": "execute_result"
    }
   ],
   "source": [
    "def prediction_func(z, l, u):\n",
    "    return z * (1 - np.exp(-l*u/z))\n",
    "\"\"\"\n",
    "z=parameter\n",
    "u=overs remaining\n",
    "\"\"\""
   ]
  },
  {
   "cell_type": "markdown",
   "metadata": {},
   "source": [
    "### Visualisation "
   ]
  },
  {
   "cell_type": "code",
   "execution_count": 21,
   "metadata": {},
   "outputs": [
    {
     "data": {
      "image/png": "[encoded data removed]",
      "text/plain": [
       "<Figure size 720x504 with 1 Axes>"
      ]
     },
     "metadata": {
      "needs_background": "light"
     },
     "output_type": "display_data"
    },
    {
     "name": "stdout",
     "output_type": "stream",
     "text": [
      "Plot Generated Successfully and saved in folder\n"
     ]
    }
   ],
   "source": [
    "# Plot the resource vs overs used graphs for 10 parameters\n",
    "plt.figure(figsize=(10,7)) #Fig Size\n",
    "plt.xlabel('Overs remaining (u)')\n",
    "plt.ylabel('Percentage of resource remaining')\n",
    "plt.xlim((0, 50))\n",
    "plt.ylim((0, 100))\n",
    "plt.xticks([0, 5, 10, 15, 20, 25, 30, 35, 40, 45, 50])\n",
    "plt.yticks([0, 10, 20, 30, 40, 50, 60, 70, 80, 90, 100])\n",
    "max_resource = prediction_func(optimized_params[9], optimized_params[10], 50)\n",
    "overs = np.arange(0, 51, 1)\n",
    "line=[]\n",
    "\n",
    "#For Center Line\n",
    "for i in range(len(overs)):\n",
    "    line.append(2*i)\n",
    "plt.plot(overs, line, color='blue')\n",
    "\n",
    "#Plot Resources Remaining vs overs Remaining\n",
    "for i in range(10):\n",
    "    fraction= prediction_func(optimized_params[i], optimized_params[10], overs)/max_resource\n",
    "    y=100*fraction\n",
    "    plt.plot(overs, y, label='Z['+str(i+1)+']')\n",
    "    plt.legend()\n",
    "plt.show()\n",
    "print(\"Plot Generated Successfully and saved in folder\")\n",
    "#plt.savefig('plot.png')\n",
    "\n"
   ]
  },
  {
   "cell_type": "code",
   "execution_count": null,
   "metadata": {},
   "outputs": [],
   "source": []
  }
 ],
 "metadata": {
  "kernelspec": {
   "display_name": "Python 3",
   "language": "python",
   "name": "python3"
  },
  "language_info": {
   "codemirror_mode": {
    "name": "ipython",
    "version": 3
   },
   "file_extension": ".py",
   "mimetype": "text/x-python",
   "name": "python",
   "nbconvert_exporter": "python",
   "pygments_lexer": "ipython3",
   "version": "3.7.3"
  }
 },
 "nbformat": 4,
 "nbformat_minor": 2
}
